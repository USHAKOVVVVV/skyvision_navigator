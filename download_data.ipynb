{
 "cells": [
  {
   "cell_type": "markdown",
   "id": "05b4d644",
   "metadata": {},
   "source": [
    "# Тут будет скачки данных с Робофлё #"
   ]
  }
 ],
 "metadata": {
  "language_info": {
   "name": "python"
  }
 },
 "nbformat": 4,
 "nbformat_minor": 5
}
